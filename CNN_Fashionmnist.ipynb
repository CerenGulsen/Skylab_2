{
  "nbformat": 4,
  "nbformat_minor": 0,
  "metadata": {
    "colab": {
      "name": "Untitled0.ipynb",
      "provenance": [],
      "collapsed_sections": [],
      "authorship_tag": "ABX9TyMQWzd0pNprkytiTLr0c1bG",
      "include_colab_link": true
    },
    "kernelspec": {
      "name": "python3",
      "display_name": "Python 3"
    },
    "accelerator": "GPU"
  },
  "cells": [
    {
      "cell_type": "markdown",
      "metadata": {
        "id": "view-in-github",
        "colab_type": "text"
      },
      "source": [
        "<a href=\"https://colab.research.google.com/github/CerenGulsen/Skylab_2/blob/main/CNN_Fashionmnist.ipynb\" target=\"_parent\"><img src=\"https://colab.research.google.com/assets/colab-badge.svg\" alt=\"Open In Colab\"/></a>"
      ]
    },
    {
      "cell_type": "code",
      "metadata": {
        "id": "WGgVJMkws00Z"
      },
      "source": [
        "import tensorflow as tf\r\n",
        "import numpy as np"
      ],
      "execution_count": 1,
      "outputs": []
    },
    {
      "cell_type": "code",
      "metadata": {
        "id": "rNAHLAjS3MV1"
      },
      "source": [
        "#Veri setini yükleme:\r\n",
        "fashion_mnist  = tf.keras.datasets.fashion_mnist \r\n",
        "(train_images, train_labels), (test_images, test_labels) = fashion_mnist .load_data()"
      ],
      "execution_count": 2,
      "outputs": []
    },
    {
      "cell_type": "code",
      "metadata": {
        "id": "98_zBCrg3Mcr"
      },
      "source": [
        "siniflar = ['T-shirt/top', 'Trouser', 'Pullover', 'Dress', 'Coat','Sandal', 'Shirt', 'Sneaker', 'Bag', 'Ankle boot']"
      ],
      "execution_count": 3,
      "outputs": []
    },
    {
      "cell_type": "code",
      "metadata": {
        "id": "04374A09A8LA"
      },
      "source": [
        "#Verileri işleme uygun boyuta getirme:\r\n",
        "img_rows, img_cols = 28, 28\r\n",
        "train_images = train_images.reshape(train_images.shape[0], img_rows, img_cols, 1)\r\n",
        "test_images =test_images.reshape(test_images.shape[0], img_rows, img_cols, 1)\r\n",
        "input_shape = (img_rows, img_cols, 1)\r\n",
        "\r\n",
        "train_images = (train_images / 255.0) \r\n",
        "test_images = (test_images / 255.0)\r\n"
      ],
      "execution_count": 4,
      "outputs": []
    },
    {
      "cell_type": "code",
      "metadata": {
        "id": "3KGmGMhmNCHI"
      },
      "source": [
        "#Model oluşturma:\r\n",
        "model = tf.keras.Sequential([ tf.keras.layers.Conv2D(32, kernel_size=(3, 3),activation='relu',input_shape=input_shape), #1.konvolüsyon katmanı\r\n",
        "                            tf.keras.layers.Conv2D(64, (3, 3), activation='relu'), #2. konvolüsyon katmanı\r\n",
        "                            tf.keras.layers.MaxPooling2D(pool_size=(2, 2)), #Pooling katmanı\r\n",
        "                            tf.keras.layers.Dropout(0.25), #Katmanlar arası gereksiz bağlantıları keser.\r\n",
        "                            tf.keras.layers.Flatten(), #Verileri tek sütuna indirger.\r\n",
        "                            tf.keras.layers.Dense(128, activation='relu'), #Tam bağlantılı bir katman oluşturur.\r\n",
        "                            tf.keras.layers.Dropout(0.5), #Katmanlar arası gereksiz bağlantıları keser.\r\n",
        "                            tf.keras.layers.Dense(len(siniflar), activation='softmax')]) #output katmanını oluşturur.\r\n"
      ],
      "execution_count": 5,
      "outputs": []
    },
    {
      "cell_type": "code",
      "metadata": {
        "id": "u-_rjqgKA8Rq"
      },
      "source": [
        "#Model derleme:\r\n",
        "model.compile(optimizer='adam',\r\n",
        "              loss=tf.keras.losses.SparseCategoricalCrossentropy(from_logits=True),\r\n",
        "              metrics=['accuracy'])"
      ],
      "execution_count": 6,
      "outputs": []
    },
    {
      "cell_type": "code",
      "metadata": {
        "colab": {
          "base_uri": "https://localhost:8080/"
        },
        "id": "JpN-yphsEAcn",
        "outputId": "b54fed04-b427-43b5-c09a-c1175ac44642"
      },
      "source": [
        "#Öğrenme:\r\n",
        "model.fit(train_images, train_labels, epochs=10)"
      ],
      "execution_count": 7,
      "outputs": [
        {
          "output_type": "stream",
          "text": [
            "Epoch 1/10\n",
            "1875/1875 [==============================] - 13s 6ms/step - loss: 0.6529 - accuracy: 0.7689\n",
            "Epoch 2/10\n",
            "1875/1875 [==============================] - 11s 6ms/step - loss: 0.3421 - accuracy: 0.8784\n",
            "Epoch 3/10\n",
            "1875/1875 [==============================] - 11s 6ms/step - loss: 0.2849 - accuracy: 0.8969\n",
            "Epoch 4/10\n",
            "1875/1875 [==============================] - 11s 6ms/step - loss: 0.2449 - accuracy: 0.9097\n",
            "Epoch 5/10\n",
            "1875/1875 [==============================] - 11s 6ms/step - loss: 0.2231 - accuracy: 0.9198\n",
            "Epoch 6/10\n",
            "1875/1875 [==============================] - 11s 6ms/step - loss: 0.2061 - accuracy: 0.9221\n",
            "Epoch 7/10\n",
            "1875/1875 [==============================] - 11s 6ms/step - loss: 0.1900 - accuracy: 0.9287\n",
            "Epoch 8/10\n",
            "1875/1875 [==============================] - 11s 6ms/step - loss: 0.1818 - accuracy: 0.9329\n",
            "Epoch 9/10\n",
            "1875/1875 [==============================] - 11s 6ms/step - loss: 0.1697 - accuracy: 0.9366\n",
            "Epoch 10/10\n",
            "1875/1875 [==============================] - 11s 6ms/step - loss: 0.1554 - accuracy: 0.9412\n"
          ],
          "name": "stdout"
        },
        {
          "output_type": "execute_result",
          "data": {
            "text/plain": [
              "<tensorflow.python.keras.callbacks.History at 0x7f4381937978>"
            ]
          },
          "metadata": {
            "tags": []
          },
          "execution_count": 7
        }
      ]
    },
    {
      "cell_type": "code",
      "metadata": {
        "colab": {
          "base_uri": "https://localhost:8080/"
        },
        "id": "S6rsufLyEAf1",
        "outputId": "bab8c520-19f5-4600-9978-b67d67e5263e"
      },
      "source": [
        "#Doğruluğunu bulma:\r\n",
        "test_loss, test_acc = model.evaluate(test_images,  test_labels, verbose=2)\r\n",
        "print('\\nTest accuracy:', test_acc)"
      ],
      "execution_count": 8,
      "outputs": [
        {
          "output_type": "stream",
          "text": [
            "313/313 - 1s - loss: 0.2202 - accuracy: 0.9272\n",
            "\n",
            "Test accuracy: 0.9272000193595886\n"
          ],
          "name": "stdout"
        }
      ]
    }
  ]
}